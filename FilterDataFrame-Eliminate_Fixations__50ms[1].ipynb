{
 "cells": [
  {
   "cell_type": "markdown",
   "metadata": {},
   "source": [
    "#  Filter DataFrame df_expanded_data_subjs_concatenated_all.csv \n",
    "This Jupyter notebook loads the concatenated DataFrame of all participants (*N*=23) and eliminates the fixations <50ms. \n",
    "\n",
    "\n",
    "*Information about the eye tracking experiment* \n",
    "\n",
    "*The eye tracking experiment involved 1,000 stimuli (retrieved from the Microsoft Coco Images Dataset) and 250 (1/4) of them were repeated. In the within-subjects design with randomized trials at a single time point, each participant completed 1,250 trials during data collection. The experimental conditions were the same as in the well-known experiment within the NSD dataset by Allen et al. (2022). Allen et al. (2022) systematically recorded only the voxel data of participants performing the same experiment while lying in an fMRI scanner. In contrast, our study captured the critical, missing ground truth eye-tracking data. We recorded eye movements from 23 participants as they viewed the same images used by Allen et al. (2022). The focus of this analysis is on the participants' eye movements, particularly fixations, during image perception.*\n",
    "\n",
    "*Participants (N= 23) performed a continuous recognition task, which required them to remember and identify as many stimuli as possible. This indirect task design enables natural image exploration, yielding in more authentic eye-tracking data that better represents real-world visual perception.*"
   ]
  },
  {
   "cell_type": "markdown",
   "metadata": {},
   "source": [
    "Used Tools: \n",
    "- MATLAB (R2022b)\n",
    "- EyeLink (1000 Plus)\n",
    "- Python 3.11.5\n"
   ]
  },
  {
   "cell_type": "markdown",
   "metadata": {},
   "source": [
    "## Structure of the DataFrame \n",
    "\n",
    "Within the reorganization of the code the structure of the Datafame is transformed to: | fixation_num| fixation num in trial| subject_nr | block_nr | trial_nr | img_id | fixation_dur| fixation_time_relative | x | y | img_onset | img_offset  |  Image actual_dur | oldResponsesDf |is_old_img | rt | number_of_responses | correct_response |hits | misses | correctRejections | falseAlarms | \n",
    "\n",
    "- **fixation numbers** = Number of fixation within the whole block (the frist, second, third ...) (*integer*)\n",
    "- **fixation number in trial** = Number of fixation in current trial \n",
    "- **subject_nr** = Subject id  (*integer*)\n",
    "- **block_nr** = Number of the block (*integer*)\n",
    "- **trial_nr** = Trial number within the current block (*integer*)\n",
    "- **image id** = ID of the presented picture within this trial (*string*)\n",
    "- **fixation_dur** = Duration of the fixation in miliseconds? (*integer*)\n",
    "- **fixation_time_relative** = Timestamp of start of fixation in relation to the start of the trial (img_onset timestamp) (*float*)\n",
    "- **x** and **y** = Coordinates of the current fixation (*float*)\n",
    "- **img_onset** = Time stamp of the start of the presentation of the image (*float*)\n",
    "- **img_offset** = Time stamp of the end of the presentation of the image (*float*)\n",
    "- **Image_actual_dur** = Duration of the presentation of the experiment  in miliseconds (supposed to be presented 3s --> 3000ms ) (*float*)\n",
    "- **oldResponsesDf** = *true*, if the image was presented to the participant within the experiment already (*is an old image*) and the correct answer of the subject was old. If not = *false*. (*boolean*) --> in MATLAB script named old_responses --> Variable that can have more then 1 input or could be empty if the subject did not answer \n",
    "- **is_old_img** = If the image was already presented to the subject within the trial (value = 1) or not (value = 0). This variable is retrieved from the Matlab files generating the distinct image sequence matrix for the distinct participants. \n",
    "- **rt** = Reaction time of image onset until the first key response, measured in seconds, miliseconds (only the first key response gets considered). (*float*)\n",
    "--> Variable that can have more then 1 input or could be empty if the subject did not answer \n",
    "- **number_of_responses** = Counts the amount of responses (key presses) a participant made during one trial (*integer*)\n",
    "- **correct_response** = *true*, if the subject's reaction was correct (the subject answered old if the the image presented was old and new if it was new). If not correct_response  = *false*. (*integer*)\n",
    "- **hits** = *true*, if the image was presented to the participant within the experiment already (is an old image) and the correct answer of the subject was old. If not = *false*. --> hits same as correct_response (*boolean*)\n",
    "- **misses** = *true*, if the image was presented to the participant within the experiment already (is an old image) and the incorrect answer of the subject was new. If not = *false*. (*boolean*)\n",
    "- **correctRejections** = *true*, if the image was not presented to the participant within the experiment already (is a new image) and the correct answer of the subject was new. If not = *false*. (*boolean*)\n",
    "- **falseAlarms** = *true*, if the image was not presented to the participant within the experiment already (is a new image) and the incorrect answer of the subject was old. If not = *false*. (*boolean*)"
   ]
  },
  {
   "cell_type": "markdown",
   "metadata": {},
   "source": [
    "### *I. Import necessary libaries for this code cell* \n"
   ]
  },
  {
   "cell_type": "code",
   "execution_count": 1,
   "metadata": {},
   "outputs": [],
   "source": [
    "from pathlib import Path\n",
    "from itertools import chain\n",
    "from scipy.io import loadmat\n",
    "import pandas as pd\n",
    "import scipy.io\n",
    "import os\n",
    "import glob\n",
    "import numpy as np\n",
    "import matplotlib.pyplot as plt\n",
    "import matplotlib.image as mpimg\n",
    "import itertools\n"
   ]
  },
  {
   "cell_type": "markdown",
   "metadata": {},
   "source": [
    "### II. Base directory, data directory and save directory setup "
   ]
  },
  {
   "cell_type": "code",
   "execution_count": 13,
   "metadata": {},
   "outputs": [
    {
     "name": "stdout",
     "output_type": "stream",
     "text": [
      "/gpfs01/bartels/user/lheinemann/saliency-nsd\n",
      "/gpfs01/bartels/user/lheinemann/saliency-nsd/data/raw\n",
      "/gpfs01/bartels/user/lheinemann/saliency-nsd/data/preprocessed\n",
      "/gpfs01/bartels/user/lheinemann/saliency-nsd/code/code_analysis_saliency-nsd/1_data-preprocessing/creation_of_dataframes\n"
     ]
    }
   ],
   "source": [
    "# Create a Path object for the base directory\n",
    "base_dir = Path('~/saliency-nsd').expanduser()\n",
    "\n",
    "# Check if the base directory exists with an assert \n",
    "assert base_dir.exists(), f'{base_dir} does not exist'\n",
    "# Print the base directory\n",
    "print(base_dir)\n",
    "\n",
    "# Combine paths to create new Path objects for the data directory and the save directory\n",
    "data_dir = base_dir / 'data/raw'\n",
    "save_dir = base_dir / 'data/preprocessed'\n",
    "\n",
    "# Check if the data and save directories exist with assert statements, if not assertion error is raised\n",
    "assert data_dir.exists(), f'{data_dir} does not exist'\n",
    "assert save_dir.exists(), f'{save_dir} does not exist'\n",
    "\n",
    "# print statement of path \n",
    "print(data_dir)\n",
    "print(save_dir)\n",
    "\n",
    "#Just to be aware of the working directory print the working diretory, should be /gpfs01/bartels/user/lheinemann/saliency-nsd/code/code_analysis_saliency-nsd/1_data-preprocessing/creation_of_dataframes\n",
    "print (os.getcwd())\n"
   ]
  },
  {
   "cell_type": "markdown",
   "metadata": {},
   "source": [
    "### *III. Test accessibility of concatenated DataFrame 'df_expanded_data_subjs_concatenated_all.csv' in the save_dir*"
   ]
  },
  {
   "cell_type": "code",
   "execution_count": 3,
   "metadata": {},
   "outputs": [
    {
     "name": "stderr",
     "output_type": "stream",
     "text": [
      "/tmp/ipykernel_1761095/96533554.py:3: DtypeWarning: Columns (13) have mixed types. Specify dtype option on import or set low_memory=False.\n",
      "  df = pd.read_csv(save_dir / 'df_expanded_data_subjs_concatenated_all.csv')\n"
     ]
    },
    {
     "name": "stdout",
     "output_type": "stream",
     "text": [
      "   Fixation Numbers  Fixation Number in Trial  Subject Number  Block Number  \\\n",
      "0                 1                         1               1             1   \n",
      "1                 2                         2               1             1   \n",
      "2                 3                         3               1             1   \n",
      "3                 4                         4               1             1   \n",
      "4                 5                         5               1             1   \n",
      "\n",
      "   Trial Number                     Image Id  Fixation Duration  \\\n",
      "0             1  'nsd_stimulus_id_10007.jpg'              0.609   \n",
      "1             1  'nsd_stimulus_id_10007.jpg'              0.246   \n",
      "2             1  'nsd_stimulus_id_10007.jpg'              0.158   \n",
      "3             1  'nsd_stimulus_id_10007.jpg'              0.176   \n",
      "4             1  'nsd_stimulus_id_10007.jpg'              0.528   \n",
      "\n",
      "   Fixation Time Relative to Image Onset  Fixation X Coordinate  \\\n",
      "0                                0.67981                  873.9   \n",
      "1                                1.32181                  928.2   \n",
      "2                                1.58781                  971.2   \n",
      "3                                1.78181                  992.2   \n",
      "4                                1.96881                  996.3   \n",
      "\n",
      "   Fixation Y Coordinate  ...  Old Responses  Image Is Old  Reaction Time  \\\n",
      "0                  491.2  ...              0             0        0.90912   \n",
      "1                  573.2  ...              0             0        0.90912   \n",
      "2                  593.6  ...              0             0        0.90912   \n",
      "3                  494.4  ...              0             0        0.90912   \n",
      "4                  470.2  ...              0             0        0.90912   \n",
      "\n",
      "  Number of Responses  Correct Response  Hits  Misses  Correct Rejections  \\\n",
      "0                   1                 1     0       0                   1   \n",
      "1                   1                 1     0       0                   1   \n",
      "2                   1                 1     0       0                   1   \n",
      "3                   1                 1     0       0                   1   \n",
      "4                   1                 1     0       0                   1   \n",
      "\n",
      "   False Alarms  Test - Img is Old  \n",
      "0             0                NaN  \n",
      "1             0                NaN  \n",
      "2             0                NaN  \n",
      "3             0                NaN  \n",
      "4             0                NaN  \n",
      "\n",
      "[5 rows x 23 columns]\n"
     ]
    }
   ],
   "source": [
    "# To test the accessiibilty of concatenated DataFrame 'df_expanded_data_subjs_concatenated_all.csv' in the save_dir*\n",
    "# Load the concatenated DataFrame\n",
    "df = pd.read_csv(save_dir / 'df_expanded_data_subjs_concatenated_all.csv')\n",
    "# Print the first 5 rows of the DataFrame\n",
    "print(df.head())\n"
   ]
  },
  {
   "cell_type": "markdown",
   "metadata": {},
   "source": [
    "## A. Eliminate the rows with the fixation_durations < 50ms (0.05 s) from the DataFrame.  \n",
    "\n",
    "Keep in mind that regarding to Rothkegel et al. (2019), \"Searchers adjust their eye-movement dynamics to target charcteristics in natural scences\" fixations that endure less then 50ms have to be removed, beacuse they are more likely a glissade. (p.10, red note) and also look at Bethges statements (2023) in the journal article \"Predicting Visual Fixations\".\n",
    "\n",
    "Drift correction does not seem neccessary, already done during the data collection of the eye tracking experiment. "
   ]
  },
  {
   "cell_type": "code",
   "execution_count": 4,
   "metadata": {},
   "outputs": [
    {
     "name": "stderr",
     "output_type": "stream",
     "text": [
      "/tmp/ipykernel_1761095/3446060538.py:6: DtypeWarning: Columns (13) have mixed types. Specify dtype option on import or set low_memory=False.\n",
      "  df_concatenated_all = pd.read_csv(df_concatenated_all)\n"
     ]
    },
    {
     "name": "stdout",
     "output_type": "stream",
     "text": [
      "Saved filtered DataFrame to CSV file in the save_dir: /gpfs01/bartels/user/lheinemann/saliency-nsd/data/preprocessed\n"
     ]
    }
   ],
   "source": [
    "# Code that load the concatenated and expanded DataFrame df_expanded_data_subjs_concatenated_all.csv and delets the rows were the values of the fixation duration are less then 50 ms (0.05s)\n",
    "# and saves the new DataFrame to a new CSV file\n",
    "\n",
    "# Load the concatenated DataFrame\n",
    "df_concatenated_all = save_dir/ f'df_expanded_data_subjs_concatenated_all.csv'\n",
    "df_concatenated_all = pd.read_csv(df_concatenated_all)\n",
    "\n",
    "# Filter the DataFrame to remove rows where the fixation duration is less than 50 ms = 0.05 s\n",
    "df_concatenated_filtered = df_concatenated_all[df_concatenated_all['Fixation Duration'] >= 0.05]\n",
    "\n",
    "# Save the filtered DataFrame to a CSV file im the save_dir\n",
    "df_concatenated_filtered.to_csv(save_dir/ f'df_expanded_data_subjs_concatenated_all_filtered.csv', index=False)\n",
    "print(f\"Saved filtered DataFrame to CSV file in the save_dir: {save_dir.resolve()}\")\n",
    "\n"
   ]
  }
 ],
 "metadata": {
  "kernelspec": {
   "display_name": "saliency-nsd",
   "language": "python",
   "name": "python3"
  },
  "language_info": {
   "codemirror_mode": {
    "name": "ipython",
    "version": 3
   },
   "file_extension": ".py",
   "mimetype": "text/x-python",
   "name": "python",
   "nbconvert_exporter": "python",
   "pygments_lexer": "ipython3",
   "version": "3.13.0"
  }
 },
 "nbformat": 4,
 "nbformat_minor": 2
}
